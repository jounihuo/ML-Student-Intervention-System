{
 "cells": [
  {
   "cell_type": "markdown",
   "metadata": {},
   "source": [
    "# Project 2: Supervised Learning\n",
    "### Building a Student Intervention System"
   ]
  },
  {
   "cell_type": "markdown",
   "metadata": {},
   "source": [
    "## 1. Classification vs Regression\n",
    "\n",
    "Your goal is to identify students who might need early intervention - which type of supervised machine learning problem is this, classification or regression? Why?"
   ]
  },
  {
   "cell_type": "markdown",
   "metadata": {},
   "source": [
    "## 2. Exploring the Data\n",
    "\n",
    "Let's go ahead and read in the student dataset first.\n",
    "\n",
    "_To execute a code cell, click inside it and press **Shift+Enter**._"
   ]
  },
  {
   "cell_type": "code",
   "execution_count": 2,
   "metadata": {
    "collapsed": false
   },
   "outputs": [
    {
     "name": "stdout",
     "output_type": "stream",
     "text": [
      "Imports complete\n"
     ]
    }
   ],
   "source": [
    "\n",
    "# Import libraries\n",
    "import numpy as np\n",
    "import pandas as pd\n",
    "\n",
    "# For plotting\n",
    "%matplotlib inline\n",
    "import matplotlib.pyplot as plt \n",
    "\n",
    "print \"Imports complete\""
   ]
  },
  {
   "cell_type": "code",
   "execution_count": 3,
   "metadata": {
    "collapsed": false
   },
   "outputs": [
    {
     "name": "stdout",
     "output_type": "stream",
     "text": [
      "Student data read successfully!\n"
     ]
    }
   ],
   "source": [
    "# Read student data\n",
    "student_data = pd.read_csv(\"student-data.csv\")\n",
    "print \"Student data read successfully!\"\n",
    "# Note: The last column 'passed' is the target/label, all other are feature columns"
   ]
  },
  {
   "cell_type": "markdown",
   "metadata": {},
   "source": [
    "Now, can you find out the following facts about the dataset?\n",
    "- Total number of students\n",
    "- Number of students who passed\n",
    "- Number of students who failed\n",
    "- Graduation rate of the class (%)\n",
    "- Number of features\n",
    "\n",
    "_Use the code block below to compute these values. Instructions/steps are marked using **TODO**s._"
   ]
  },
  {
   "cell_type": "code",
   "execution_count": 4,
   "metadata": {
    "collapsed": false
   },
   "outputs": [
    {
     "name": "stdout",
     "output_type": "stream",
     "text": [
      "Total number of students: 395\n",
      "Number of students who passed: 265\n",
      "Number of students who failed: 130\n",
      "Number of features: 30\n",
      "Graduation rate of the class: 67.09%\n"
     ]
    },
    {
     "data": {
      "text/plain": [
       "<matplotlib.axes.AxesSubplot at 0x96631d0>"
      ]
     },
     "execution_count": 4,
     "metadata": {},
     "output_type": "execute_result"
    },
    {
     "data": {
      "image/png": "[encoded data removed]",
      "text/plain": [
       "<matplotlib.figure.Figure at 0x8e37f60>"
      ]
     },
     "metadata": {},
     "output_type": "display_data"
    },
    {
     "data": {
      "image/png": "[encoded data removed]",
      "text/plain": [
       "<matplotlib.figure.Figure at 0x8e3bcf8>"
      ]
     },
     "metadata": {},
     "output_type": "display_data"
    }
   ],
   "source": [
    "# TODO: Compute desired values - replace each '?' with an appropriate expression/function call\n",
    "n_students = student_data.count(axis=0)[0]\n",
    "n_features = student_data.count(axis=1)[0] - 1 #Target removed\n",
    "n_passed = sum(student_data.passed==\"yes\")\n",
    "n_failed = sum(student_data.passed==\"no\")\n",
    "grad_rate = float(n_passed)/float(n_passed+n_failed)\n",
    "print \"Total number of students: {}\".format(n_students)\n",
    "print \"Number of students who passed: {}\".format(n_passed)\n",
    "print \"Number of students who failed: {}\".format(n_failed)\n",
    "print \"Number of features: {}\".format(n_features)\n",
    "print \"Graduation rate of the class: {:.2f}%\".format(grad_rate*100)\n",
    "\n",
    "# Box plotting data\n",
    "data=student_data[['age','absences']]\n",
    "data.boxplot(by='age', sym='')\n",
    "\n",
    "data=student_data[['health','absences']]\n",
    "data.boxplot(by='health', sym='')"
   ]
  },
  {
   "cell_type": "markdown",
   "metadata": {},
   "source": [
    "## 3. Preparing the Data\n",
    "In this section, we will prepare the data for modeling, training and testing.\n",
    "\n",
    "### Identify feature and target columns\n",
    "It is often the case that the data you obtain contains non-numeric features. This can be a problem, as most machine learning algorithms expect numeric data to perform computations with.\n",
    "\n",
    "Let's first separate our data into feature and target columns, and see if any features are non-numeric.<br/>\n",
    "**Note**: For this dataset, the last column (`'passed'`) is the target or label we are trying to predict."
   ]
  },
  {
   "cell_type": "code",
   "execution_count": 5,
   "metadata": {
    "collapsed": false
   },
   "outputs": [
    {
     "name": "stdout",
     "output_type": "stream",
     "text": [
      "Feature column(s):-\n",
      "['school', 'sex', 'age', 'address', 'famsize', 'Pstatus', 'Medu', 'Fedu', 'Mjob', 'Fjob', 'reason', 'guardian', 'traveltime', 'studytime', 'failures', 'schoolsup', 'famsup', 'paid', 'activities', 'nursery', 'higher', 'internet', 'romantic', 'famrel', 'freetime', 'goout', 'Dalc', 'Walc', 'health', 'absences']\n",
      "Target column: passed\n",
      "\n",
      "Feature values:-\n",
      "  school sex  age address famsize Pstatus  Medu  Fedu     Mjob      Fjob  \\\n",
      "0     GP   F   18       U     GT3       A     4     4  at_home   teacher   \n",
      "1     GP   F   17       U     GT3       T     1     1  at_home     other   \n",
      "2     GP   F   15       U     LE3       T     1     1  at_home     other   \n",
      "3     GP   F   15       U     GT3       T     4     2   health  services   \n",
      "4     GP   F   16       U     GT3       T     3     3    other     other   \n",
      "\n",
      "     ...    higher internet  romantic  famrel  freetime goout Dalc Walc  \\\n",
      "0    ...       yes       no        no       4         3     4    1    1   \n",
      "1    ...       yes      yes        no       5         3     3    1    1   \n",
      "2    ...       yes      yes        no       4         3     2    2    3   \n",
      "3    ...       yes      yes       yes       3         2     2    1    1   \n",
      "4    ...       yes       no        no       4         3     2    1    2   \n",
      "\n",
      "  health absences  \n",
      "0      3        6  \n",
      "1      3        4  \n",
      "2      3       10  \n",
      "3      5        2  \n",
      "4      5        4  \n",
      "\n",
      "[5 rows x 30 columns]\n"
     ]
    }
   ],
   "source": [
    "# Extract feature (X) and target (y) columns\n",
    "feature_cols = list(student_data.columns[:-1])  # all columns but last are features\n",
    "target_col = student_data.columns[-1]  # last column is the target/label\n",
    "print \"Feature column(s):-\\n{}\".format(feature_cols)\n",
    "print \"Target column: {}\".format(target_col)\n",
    "\n",
    "X_all = student_data[feature_cols]  # feature values for all students\n",
    "y_all = student_data[target_col]  # corresponding targets/labels\n",
    "print \"\\nFeature values:-\"\n",
    "print X_all.head()  # print the first 5 rows"
   ]
  },
  {
   "cell_type": "markdown",
   "metadata": {},
   "source": [
    "### Preprocess feature columns\n",
    "\n",
    "As you can see, there are several non-numeric columns that need to be converted! Many of them are simply `yes`/`no`, e.g. `internet`. These can be reasonably converted into `1`/`0` (binary) values.\n",
    "\n",
    "Other columns, like `Mjob` and `Fjob`, have more than two values, and are known as _categorical variables_. The recommended way to handle such a column is to create as many columns as possible values (e.g. `Fjob_teacher`, `Fjob_other`, `Fjob_services`, etc.), and assign a `1` to one of them and `0` to all others.\n",
    "\n",
    "These generated columns are sometimes called _dummy variables_, and we will use the [`pandas.get_dummies()`](http://pandas.pydata.org/pandas-docs/stable/generated/pandas.get_dummies.html?highlight=get_dummies#pandas.get_dummies) function to perform this transformation."
   ]
  },
  {
   "cell_type": "code",
   "execution_count": 6,
   "metadata": {
    "collapsed": false
   },
   "outputs": [
    {
     "name": "stdout",
     "output_type": "stream",
     "text": [
      "Processed feature columns (48):-\n",
      "['school_GP', 'school_MS', 'sex_F', 'sex_M', 'age', 'address_R', 'address_U', 'famsize_GT3', 'famsize_LE3', 'Pstatus_A', 'Pstatus_T', 'Medu', 'Fedu', 'Mjob_at_home', 'Mjob_health', 'Mjob_other', 'Mjob_services', 'Mjob_teacher', 'Fjob_at_home', 'Fjob_health', 'Fjob_other', 'Fjob_services', 'Fjob_teacher', 'reason_course', 'reason_home', 'reason_other', 'reason_reputation', 'guardian_father', 'guardian_mother', 'guardian_other', 'traveltime', 'studytime', 'failures', 'schoolsup', 'famsup', 'paid', 'activities', 'nursery', 'higher', 'internet', 'romantic', 'famrel', 'freetime', 'goout', 'Dalc', 'Walc', 'health', 'absences']\n"
     ]
    }
   ],
   "source": [
    "# Preprocess feature columns\n",
    "def preprocess_features(X):\n",
    "    outX = pd.DataFrame(index=X.index)  # output dataframe, initially empty\n",
    "\n",
    "    # Check each column\n",
    "    for col, col_data in X.iteritems():\n",
    "        # If data type is non-numeric, try to replace all yes/no values with 1/0\n",
    "        if col_data.dtype == object:\n",
    "            col_data = col_data.replace(['yes', 'no'], [1, 0])\n",
    "        # Note: This should change the data type for yes/no columns to int\n",
    "\n",
    "        # If still non-numeric, convert to one or more dummy variables\n",
    "        if col_data.dtype == object:\n",
    "            col_data = pd.get_dummies(col_data, prefix=col)  # e.g. 'school' => 'school_GP', 'school_MS'\n",
    "\n",
    "        outX = outX.join(col_data)  # collect column(s) in output dataframe\n",
    "\n",
    "    return outX\n",
    "\n",
    "X_all = preprocess_features(X_all)\n",
    "print \"Processed feature columns ({}):-\\n{}\".format(len(X_all.columns), list(X_all.columns))\n",
    "\n",
    "#Transforming the string targets to numeric \n",
    "y_all = ((y_all==\"yes\")*1)\n"
   ]
  },
  {
   "cell_type": "markdown",
   "metadata": {},
   "source": [
    "### Split data into training and test sets\n",
    "\n",
    "So far, we have converted all _categorical_ features into numeric values. In this next step, we split the data (both features and corresponding labels) into training and test sets."
   ]
  },
  {
   "cell_type": "code",
   "execution_count": 7,
   "metadata": {
    "collapsed": false
   },
   "outputs": [
    {
     "name": "stdout",
     "output_type": "stream",
     "text": [
      "Training set: 300 samples\n",
      "Test set: 95 samples\n",
      "Done with data split !\n"
     ]
    }
   ],
   "source": [
    "# sklear used to split data to 76/24 sets (This was done to get 300 samples in the training set)\n",
    "from sklearn.cross_validation import train_test_split\n",
    "X_train, X_test, y_train, y_test = train_test_split(X_all, y_all, test_size=0.24, random_state=123)\n",
    "\n",
    "print \"Training set: {} samples\".format(X_train.shape[0])\n",
    "print \"Test set: {} samples\".format(X_test.shape[0])\n",
    "\n",
    "print \"Done with data split !\""
   ]
  },
  {
   "cell_type": "markdown",
   "metadata": {},
   "source": [
    "## 4. Training and Evaluating Models\n",
    "Choose 3 supervised learning models that are available in scikit-learn, and appropriate for this problem. For each model:\n",
    "\n",
    "- What is the theoretical O(n) time & space complexity in terms of input size?\n",
    "- What are the general applications of this model? What are its strengths and weaknesses?\n",
    "- Given what you know about the data so far, why did you choose this model to apply?\n",
    "- Fit this model to the training data, try to predict labels (for both training and test sets), and measure the F<sub>1</sub> score. Repeat this process with different training set sizes (100, 200, 300), keeping test set constant.\n",
    "\n",
    "Produce a table showing training time, prediction time, F<sub>1</sub> score on training set and F<sub>1</sub> score on test set, for each training set size.\n",
    "\n",
    "Note: You need to produce 3 such tables - one for each model."
   ]
  },
  {
   "cell_type": "code",
   "execution_count": 8,
   "metadata": {
    "collapsed": false
   },
   "outputs": [],
   "source": [
    "# Train a model\n",
    "import time\n",
    "\n",
    "def train_classifier(clf, X_train, y_train):\n",
    "    print \"Training {}...\".format(clf.__class__.__name__)\n",
    "    start = time.time()\n",
    "    clf.fit(X_train, y_train)\n",
    "    end = time.time()\n",
    "    print \"Done!\\nTraining time (secs): {:.10f}\".format(end - start)\n"
   ]
  },
  {
   "cell_type": "code",
   "execution_count": 9,
   "metadata": {
    "collapsed": false
   },
   "outputs": [
    {
     "name": "stdout",
     "output_type": "stream",
     "text": [
      "Let's train\n"
     ]
    }
   ],
   "source": [
    "# Predict on training set and compute F1 score\n",
    "from sklearn.metrics import f1_score\n",
    "import time\n",
    "\n",
    "def train_classifier(clf, X_train, y_train):\n",
    "    #print \"Training {}...\".format(clf.__class__.__name__)\n",
    "    start = time.time()\n",
    "    clf.fit(X_train, y_train)\n",
    "    end = time.time()\n",
    "    print \"Training time (secs): {:.10f}\".format(end - start)\n",
    "\n",
    "def train_predict(clf, X_train, y_train, X_test, y_test):\n",
    "    print \"------------------------------------------\"\n",
    "    print \"Training set size: {}\".format(len(X_train))\n",
    "    train_classifier(clf, X_train, y_train)\n",
    "    print \"F1 score for training set: {}\".format(predict_labels(clf, X_train, y_train))\n",
    "    print \"F1 score for test set: {}\".format(predict_labels(clf, X_test, y_test))\n",
    "\n",
    "def predict_labels(clf, features, target):\n",
    "    #print \"Predicting labels using {}...\".format(clf.__class__.__name__)\n",
    "    start = time.time()\n",
    "    y_pred = clf.predict(features)\n",
    "    end = time.time()\n",
    "    print \"Prediction time (secs): {:.10f}\".format(end - start)\n",
    "    return f1_score(target, y_pred, pos_label=1)\n",
    "\n",
    "print \"Let's train\"\n",
    "\n"
   ]
  },
  {
   "cell_type": "code",
   "execution_count": 14,
   "metadata": {
    "collapsed": false
   },
   "outputs": [
    {
     "name": "stdout",
     "output_type": "stream",
     "text": [
      "\n",
      "Testing Decision Tree with 100\n",
      "------------------------------------------\n",
      "Training set size: 100\n",
      "Training time (secs): 0.0009999275\n",
      "Prediction time (secs): 0.0000000000\n",
      "F1 score for training set: 1.0\n",
      "Prediction time (secs): 0.0010001659\n",
      "F1 score for test set: 0.721804511278\n",
      "\n",
      "Testing Decision Tree with 200\n",
      "------------------------------------------\n",
      "Training set size: 200\n",
      "Training time (secs): 0.0020000935\n",
      "Prediction time (secs): 0.0000000000\n",
      "F1 score for training set: 1.0\n",
      "Prediction time (secs): 0.0000000000\n",
      "F1 score for test set: 0.780141843972\n",
      "\n",
      "Testing Decision Tree with 300\n",
      "------------------------------------------\n",
      "Training set size: 300\n",
      "Training time (secs): 0.0040001869\n",
      "Prediction time (secs): 0.0009999275\n",
      "F1 score for training set: 1.0\n",
      "Prediction time (secs): 0.0000000000\n",
      "F1 score for test set: 0.779411764706\n",
      "\n",
      "Testing Random Forests with 100\n",
      "------------------------------------------\n",
      "Training set size: 100\n",
      "Training time (secs): 0.0290000439\n",
      "Prediction time (secs): 0.0009999275\n",
      "F1 score for training set: 0.976377952756\n",
      "Prediction time (secs): 0.0009999275\n",
      "F1 score for test set: 0.753846153846\n",
      "\n",
      "Testing Random Forests with 200\n",
      "------------------------------------------\n",
      "Training set size: 200\n",
      "Training time (secs): 0.0269999504\n",
      "Prediction time (secs): 0.0020000935\n",
      "F1 score for training set: 0.988235294118\n",
      "Prediction time (secs): 0.0009999275\n",
      "F1 score for test set: 0.811188811189\n",
      "\n",
      "Testing Random Forests with 300\n",
      "------------------------------------------\n",
      "Training set size: 300\n",
      "Training time (secs): 0.0329999924\n",
      "Prediction time (secs): 0.0030000210\n",
      "F1 score for training set: 0.987341772152\n",
      "Prediction time (secs): 0.0019998550\n",
      "F1 score for test set: 0.838235294118\n",
      "\n",
      "Testing Naive Bayes with 100\n",
      "------------------------------------------\n",
      "Training set size: 100\n",
      "Training time (secs): 0.0009999275\n",
      "Prediction time (secs): 0.0000000000\n",
      "F1 score for training set: 0.787878787879\n",
      "Prediction time (secs): 0.0009999275\n",
      "F1 score for test set: 0.8\n",
      "\n",
      "Testing Naive Bayes with 200\n",
      "------------------------------------------\n",
      "Training set size: 200\n",
      "Training time (secs): 0.0009999275\n",
      "Prediction time (secs): 0.0010001659\n",
      "F1 score for training set: 0.765625\n",
      "Prediction time (secs): 0.0009999275\n",
      "F1 score for test set: 0.826086956522\n",
      "\n",
      "Testing Naive Bayes with 300\n",
      "------------------------------------------\n",
      "Training set size: 300\n",
      "Training time (secs): 0.0019998550\n",
      "Prediction time (secs): 0.0010001659\n",
      "F1 score for training set: 0.766584766585\n",
      "Prediction time (secs): 0.0000000000\n",
      "F1 score for test set: 0.828571428571\n",
      "{}\n",
      "\n",
      "Done\n"
     ]
    }
   ],
   "source": [
    "#Training 3 different models with three different datasets\n",
    "\n",
    "# TODO: Choose a model, import it and instantiate an object\n",
    "from sklearn.tree import DecisionTreeClassifier\n",
    "clf1 = DecisionTreeClassifier()\n",
    "\n",
    "print \"\\nTesting Decision Tree with 100\"\n",
    "train_predict(clf1, X_train[:100], y_train[:100], X_test, y_test)\n",
    "print \"\\nTesting Decision Tree with 200\"\n",
    "train_predict(clf1, X_train[:200], y_train[:200], X_test, y_test)\n",
    "print \"\\nTesting Decision Tree with 300\"\n",
    "train_predict(clf1, X_train[:300], y_train[:300], X_test, y_test)\n",
    "\n",
    "from sklearn.ensemble import RandomForestClassifier\n",
    "clf2 = RandomForestClassifier()\n",
    "\n",
    "print \"\\nTesting Random Forests with 100\"\n",
    "train_predict(clf2, X_train[:100], y_train[:100], X_test, y_test)\n",
    "print \"\\nTesting Random Forests with 200\"\n",
    "train_predict(clf2, X_train[:200], y_train[:200], X_test, y_test)\n",
    "print \"\\nTesting Random Forests with 300\"\n",
    "train_predict(clf2, X_train[:300], y_train[:300], X_test, y_test)\n",
    "\n",
    "from sklearn.naive_bayes import GaussianNB\n",
    "clf3 = GaussianNB()\n",
    "\n",
    "print \"\\nTesting Naive Bayes with 100\"\n",
    "train_predict(clf3, X_train[:100], y_train[:100], X_test, y_test)\n",
    "print \"\\nTesting Naive Bayes with 200\"\n",
    "train_predict(clf3, X_train[:200], y_train[:200], X_test, y_test)\n",
    "print \"\\nTesting Naive Bayes with 300\"\n",
    "train_predict(clf3, X_train[:300], y_train[:300], X_test, y_test)\n",
    "\n",
    "print clf3.get_params(True)\n",
    "\n",
    "print \"\\nDone\""
   ]
  },
  {
   "cell_type": "markdown",
   "metadata": {},
   "source": [
    "## 5. Choosing the Best Model\n",
    "\n",
    "- Based on the experiments you performed earlier, in 1-2 paragraphs explain to the board of supervisors what single model you chose as the best model. Which model is generally the most appropriate based on the available data, limited resources, cost, and performance?\n",
    "- In 1-2 paragraphs explain to the board of supervisors in layman's terms how the final model chosen is supposed to work (for example if you chose a Decision Tree or Support Vector Machine, how does it make a prediction).\n",
    "- Fine-tune the model. Use Gridsearch with at least one important parameter tuned and with at least 3 settings. Use the entire training set for this.\n",
    "- What is the model's final F<sub>1</sub> score?"
   ]
  },
  {
   "cell_type": "code",
   "execution_count": 27,
   "metadata": {
    "collapsed": false
   },
   "outputs": [
    {
     "name": "stdout",
     "output_type": "stream",
     "text": [
      "Fitting 10 folds for each of 1 candidates, totalling 10 fits\n",
      "GridSearchCV(cv=10, error_score='raise', estimator=GaussianNB(),\n",
      "       fit_params={}, iid=True, n_jobs=1, param_grid={},\n",
      "       pre_dispatch='2*n_jobs', refit=True, scoring='f1', verbose=1)\n",
      "GaussianNB()\n",
      "Prediction time (secs): 0.0000000000\n",
      "F1 score for training set: 0.766584766585\n",
      "Prediction time (secs): 0.0000000000\n",
      "F1 score for test set: 0.828571428571\n",
      "/n Confusion matrix with all of the data\n",
      "[[ 62  68]\n",
      " [ 51 214]]\n",
      "Done\n"
     ]
    },
    {
     "name": "stderr",
     "output_type": "stream",
     "text": [
      "[Parallel(n_jobs=1)]: Done  10 out of  10 | elapsed:    0.0s finished\n"
     ]
    }
   ],
   "source": [
    "# TODO: Fine-tune your model and report the best F1 score\n",
    "from sklearn import grid_search\n",
    "\n",
    "clf = GaussianNB()\n",
    "\n",
    "#No parameters to tune for GaussianNB, but cross validation still done\n",
    "parameters = {}\n",
    "\n",
    "final_clf = grid_search.GridSearchCV(clf, parameters, cv=10, verbose=1, scoring = 'f1')\n",
    "\n",
    "print final_clf.fit(X_train, y_train)\n",
    "    \n",
    "# Printing the best model form the grid search\n",
    "print(final_clf.best_estimator_)\n",
    "\n",
    "print \"F1 score for training set: {}\".format(predict_labels(final_clf.best_estimator_, X_train, y_train))\n",
    "print \"F1 score for test set: {}\".format(predict_labels(final_clf, X_test, y_test))\n",
    "\n",
    "from sklearn.metrics import confusion_matrix\n",
    "final_model = final_clf.best_estimator_\n",
    "\n",
    "print \"/n Confusion matrix with all of the data\"\n",
    "print confusion_matrix(y_all, final_model.predict(X_all))\n",
    "\n",
    "print(\"Done\")\n"
   ]
  },
  {
   "cell_type": "code",
   "execution_count": null,
   "metadata": {
    "collapsed": true
   },
   "outputs": [],
   "source": []
  }
 ],
 "metadata": {
  "kernelspec": {
   "display_name": "Python 2",
   "language": "python",
   "name": "python2"
  },
  "language_info": {
   "codemirror_mode": {
    "name": "ipython",
    "version": 2
   },
   "file_extension": ".py",
   "mimetype": "text/x-python",
   "name": "python",
   "nbconvert_exporter": "python",
   "pygments_lexer": "ipython2",
   "version": "2.7.6"
  }
 },
 "nbformat": 4,
 "nbformat_minor": 0
}
